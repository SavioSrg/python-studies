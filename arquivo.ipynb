{
 "cells": [
  {
   "cell_type": "code",
   "execution_count": 4,
   "id": "19b71f6c",
   "metadata": {},
   "outputs": [
    {
     "name": "stdout",
     "output_type": "stream",
     "text": [
      "^C\n"
     ]
    }
   ],
   "source": [
    "# 📌 Instalação das bibliotecas necessárias (execute apenas uma vez por ambiente)\n",
    "!pip install moviepy openai-whisper --quiet"
   ]
  },
  {
   "cell_type": "code",
   "execution_count": 3,
   "id": "96fa06f0",
   "metadata": {},
   "outputs": [
    {
     "ename": "SyntaxError",
     "evalue": "(unicode error) 'unicodeescape' codec can't decode bytes in position 2-3: truncated \\UXXXXXXXX escape (2416425132.py, line 5)",
     "output_type": "error",
     "traceback": [
      "  \u001b[36mCell\u001b[39m\u001b[36m \u001b[39m\u001b[32mIn[3]\u001b[39m\u001b[32m, line 5\u001b[39m\n\u001b[31m    \u001b[39m\u001b[31mvideo_path = \"C:\\Users\\Sávio Sérgio PC\\Videos\\NVIDIA\\Desktop\\Desktop 2025.07.17 - 17.29.22.01.mp4\"\u001b[39m\n                                                                                                      ^\n\u001b[31mSyntaxError\u001b[39m\u001b[31m:\u001b[39m (unicode error) 'unicodeescape' codec can't decode bytes in position 2-3: truncated \\UXXXXXXXX escape\n"
     ]
    }
   ],
   "source": [
    "# 📁 Passo 1: Extrair o áudio do vídeo\n",
    "from moviepy.editor import VideoFileClip\n",
    "\n",
    "# Caminho do vídeo (substitua pelo nome do seu arquivo)\n",
    "video_path = \"C:\\Users\\Sávio Sérgio PC\\Videos\\NVIDIA\\Desktop\\Desktop 2025.07.17 - 17.29.22.01.mp4\"\n",
    "audio_path = \"audio.wav\"\n",
    "\n",
    "# Carrega o vídeo e extrai o áudio\n",
    "video = VideoFileClip(video_path)\n",
    "video.audio.write_audiofile(audio_path)\n",
    "\n",
    "print(\"✅ Áudio extraído com sucesso:\", audio_path)"
   ]
  },
  {
   "cell_type": "code",
   "execution_count": null,
   "id": "177a8896",
   "metadata": {},
   "outputs": [],
   "source": [
    "# 🧠 Passo 2: Transcrever o áudio em texto com Whisper\n",
    "import whisper\n",
    "\n",
    "# Carrega o modelo Whisper (você pode testar com 'base', 'small', 'medium', etc.)\n",
    "model = whisper.load_model(\"base\")\n",
    "\n",
    "# Transcreve o áudio\n",
    "result = model.transcribe(audio_path)\n",
    "\n",
    "# Mostra o texto transcrito\n",
    "print(\"📝 Texto transcrito:\")\n",
    "print(result[\"text\"])"
   ]
  }
 ],
 "metadata": {
  "kernelspec": {
   "display_name": "Python 3",
   "language": "python",
   "name": "python3"
  },
  "language_info": {
   "codemirror_mode": {
    "name": "ipython",
    "version": 3
   },
   "file_extension": ".py",
   "mimetype": "text/x-python",
   "name": "python",
   "nbconvert_exporter": "python",
   "pygments_lexer": "ipython3",
   "version": "3.11.9"
  }
 },
 "nbformat": 4,
 "nbformat_minor": 5
}
